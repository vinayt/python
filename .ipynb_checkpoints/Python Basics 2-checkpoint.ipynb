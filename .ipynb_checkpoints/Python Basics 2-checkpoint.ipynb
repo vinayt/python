{
 "cells": [
  {
   "cell_type": "markdown",
   "id": "2a8f0a03",
   "metadata": {},
   "source": [
    "# Multi line strings"
   ]
  },
  {
   "cell_type": "code",
   "execution_count": 5,
   "id": "7daf2b94",
   "metadata": {},
   "outputs": [
    {
     "name": "stdout",
     "output_type": "stream",
     "text": [
      " This is a multiline\n",
      "string with line 2 and\n",
      "line 3 \n"
     ]
    }
   ],
   "source": [
    "mlstring = \"\"\" This is a multiline\n",
    "string with line 2 and\n",
    "line 3 \"\"\"\n",
    "\n",
    "print(mlstring)"
   ]
  },
  {
   "cell_type": "markdown",
   "id": "b2f7a431",
   "metadata": {},
   "source": [
    " # boolean, None and converting types"
   ]
  },
  {
   "cell_type": "code",
   "execution_count": 15,
   "id": "14ce6933",
   "metadata": {},
   "outputs": [
    {
     "name": "stdout",
     "output_type": "stream",
     "text": [
      "True\n",
      "None\n",
      "31\n",
      "31\n"
     ]
    }
   ],
   "source": [
    "isvisible = True\n",
    "print(isvisible)\n",
    "\n",
    "isvisible = None\n",
    "print(isvisible)\n",
    "\n",
    "age = '31'\n",
    "print(int(age))\n",
    "print(str(int(age)))"
   ]
  },
  {
   "cell_type": "markdown",
   "id": "621434c6",
   "metadata": {},
   "source": [
    "# Built in functions"
   ]
  },
  {
   "cell_type": "code",
   "execution_count": 50,
   "id": "be4c246c",
   "metadata": {},
   "outputs": [
    {
     "name": "stdout",
     "output_type": "stream",
     "text": [
      "5\n",
      "31\n",
      "302\n",
      "2\n",
      "6\n",
      "37\n",
      "(('python', 1), ('java', 2), ('php', 3))\n"
     ]
    }
   ],
   "source": [
    "print(len(str(12345)))\n",
    "print(len(str(2**100)))\n",
    "print(len(str(2**1000)))\n",
    "\n",
    "print(min(2,3))\n",
    "print(max(4,6))\n",
    "\n",
    "print(sum([12, 25]))\n",
    "\n",
    "\n",
    "\n",
    "x = zip([\"python\",\"java\",\"php\"],[1,2,3,4])\n",
    "print(tuple(x))"
   ]
  },
  {
   "cell_type": "markdown",
   "id": "d0115d58",
   "metadata": {},
   "source": [
    "# Functions"
   ]
  },
  {
   "cell_type": "code",
   "execution_count": 39,
   "id": "5d6c6c10",
   "metadata": {},
   "outputs": [
    {
     "name": "stdout",
     "output_type": "stream",
     "text": [
      "20\n",
      "41\n"
     ]
    },
    {
     "data": {
      "text/plain": [
       "<zip at 0x198a5051c40>"
      ]
     },
     "execution_count": 39,
     "metadata": {},
     "output_type": "execute_result"
    }
   ],
   "source": [
    "def sumofsquares(x,y=2):\n",
    "    return (x * x) + (y * y)\n",
    "\n",
    "print(sumofsquares(x=4))\n",
    "print(sumofsquares(x=4, y=5))\n",
    "\n",
    "\n"
   ]
  },
  {
   "cell_type": "markdown",
   "id": "8f2203b7",
   "metadata": {},
   "source": [
    "# Methods\n",
    "Methods are functions that work on an object"
   ]
  },
  {
   "cell_type": "code",
   "execution_count": 57,
   "id": "1c620c27",
   "metadata": {},
   "outputs": [
    {
     "name": "stdout",
     "output_type": "stream",
     "text": [
      "HELLO\n",
      "[6, 8, 12, 45, 92]\n",
      "[45, 12, 8, 92, 6]\n",
      "[6, 8, 12, 45, 92]\n",
      "[[6, 1], [2, 3], [5, 4]]\n",
      "[[5, 4], [2, 3], [6, 1]]\n"
     ]
    }
   ],
   "source": [
    "x = 'hello'\n",
    "print(x.upper())\n",
    "\n",
    "a = [45, 12, 8, 92, 6]\n",
    "print(sorted(a))\n",
    "print(a)\n",
    "\n",
    "a.sort()\n",
    "print(a)\n",
    "\n",
    "\n",
    "b = [[2,3], [6,1], [5,4]]\n",
    "b.sort(key=lambda x:x[1])\n",
    "print(b)\n",
    "b.reverse()\n",
    "print(b)"
   ]
  },
  {
   "cell_type": "markdown",
   "id": "21bbf43d",
   "metadata": {},
   "source": [
    "# Conditional operators"
   ]
  },
  {
   "cell_type": "code",
   "execution_count": 32,
   "id": "69a4d788",
   "metadata": {},
   "outputs": [
    {
     "name": "stdout",
     "output_type": "stream",
     "text": [
      "True\n",
      "False\n",
      "True\n",
      "True\n",
      "False\n",
      "True\n"
     ]
    }
   ],
   "source": [
    "x = 5\n",
    "print(x < 10)\n",
    "print(x == 6)\n",
    "print(x <= 5)\n",
    "print(x != 9)\n",
    "\n",
    "langs = ['Python', 'Perl']\n",
    "print(langs[0] < langs[1])\n",
    "print(langs[1] < langs[0])\n"
   ]
  },
  {
   "cell_type": "markdown",
   "id": "389e5dd7",
   "metadata": {},
   "source": [
    "# Modules"
   ]
  },
  {
   "cell_type": "code",
   "execution_count": 37,
   "id": "dd4cdcbe",
   "metadata": {},
   "outputs": [
    {
     "name": "stdout",
     "output_type": "stream",
     "text": [
      "Tue Feb 15 20:46:09 2022\n",
      "-f\n"
     ]
    }
   ],
   "source": [
    "import time, sys\n",
    "print(time.asctime())\n",
    "print(sys.argv[1])"
   ]
  },
  {
   "cell_type": "markdown",
   "id": "d2b1dc17",
   "metadata": {},
   "source": [
    "# Elements in for"
   ]
  },
  {
   "cell_type": "code",
   "execution_count": 45,
   "id": "4dfd907b",
   "metadata": {},
   "outputs": [
    {
     "name": "stdout",
     "output_type": "stream",
     "text": [
      "a 1 key1\n",
      "b 2 key2\n",
      "c 3 key3\n"
     ]
    }
   ],
   "source": [
    "names = [\"a\", \"b\", \"c\"]\n",
    "values = [1, 2, 3]\n",
    "keys = [\"key1\",\"key2\", \"key3\"]\n",
    "for name, value, key in zip(names, values, keys):\n",
    "    print(name, value, key)"
   ]
  }
 ],
 "metadata": {
  "kernelspec": {
   "display_name": "Python 3 (ipykernel)",
   "language": "python",
   "name": "python3"
  },
  "language_info": {
   "codemirror_mode": {
    "name": "ipython",
    "version": 3
   },
   "file_extension": ".py",
   "mimetype": "text/x-python",
   "name": "python",
   "nbconvert_exporter": "python",
   "pygments_lexer": "ipython3",
   "version": "3.9.7"
  }
 },
 "nbformat": 4,
 "nbformat_minor": 5
}
