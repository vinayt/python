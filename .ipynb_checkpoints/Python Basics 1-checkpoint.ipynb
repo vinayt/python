{
 "cells": [
  {
   "cell_type": "markdown",
   "id": "54a0b0b7",
   "metadata": {},
   "source": [
    "# Simple examples of Python basics\n",
    "A quick reference to the basics of python programming language"
   ]
  },
  {
   "cell_type": "code",
   "execution_count": 1,
   "id": "559f0722",
   "metadata": {},
   "outputs": [
    {
     "name": "stdout",
     "output_type": "stream",
     "text": [
      "Hello World\n"
     ]
    }
   ],
   "source": [
    "print(\"Hello World\")"
   ]
  },
  {
   "cell_type": "markdown",
   "id": "f3b863aa",
   "metadata": {},
   "source": [
    "# Operators\n"
   ]
  },
  {
   "cell_type": "code",
   "execution_count": 2,
   "id": "e3da3246",
   "metadata": {},
   "outputs": [
    {
     "name": "stdout",
     "output_type": "stream",
     "text": [
      "5\n",
      "4\n",
      "12\n",
      "3.0\n",
      "0\n",
      "9\n"
     ]
    }
   ],
   "source": [
    "print(2+3)\n",
    "print(6-2)\n",
    "print(6 * 2)\n",
    "print(6/2)\n",
    "print(100%5)\n",
    "print(3**2)"
   ]
  },
  {
   "cell_type": "markdown",
   "id": "0218e093",
   "metadata": {},
   "source": [
    "# List\n",
    "List is a collection of elements\n",
    "\n",
    "append, pop, copy\n",
    "\n"
   ]
  },
  {
   "cell_type": "code",
   "execution_count": 3,
   "id": "ddd7ef88",
   "metadata": {},
   "outputs": [
    {
     "name": "stdout",
     "output_type": "stream",
     "text": [
      "Simple list : \n",
      "['Python Programming', 21, 4.35, 'AI Models']\n",
      "Simple list after append and pop : \n",
      "['Python Programming', 21, 4.35, 24, 'Future Models']\n",
      "Referring list after updating 1st element : \n",
      "['New Programming', 21, 4.35, 24, 'Future Models']\n",
      "Simple list after updating referring list : \n",
      "['New Programming', 21, 4.35, 24, 'Future Models']\n",
      "Copied list after updating 1st element : \n",
      "['New Programming', 21, 4.35, 24, 'Future Models']\n",
      "Simple list after updating copied list: \n",
      "['Pyhton Programming', 21, 4.35, 24, 'Future Models']\n",
      "[4.35, 24]\n",
      "['Pyhton Programming', 21]\n"
     ]
    }
   ],
   "source": [
    "simple_list = [\"Python Programming\", 21, 4.35, 'AI Models']\n",
    "print('Simple list : ')\n",
    "print(simple_list)\n",
    "\n",
    "simple_list.append(24)\n",
    "simple_list.append('Future Models')\n",
    "simple_list.pop(3)  #Popping element at index 3 (4th element in list) \n",
    "\n",
    "print('Simple list after append and pop : ')\n",
    "print(simple_list)\n",
    "\n",
    "referring_list = simple_list  # This refers to the original list\n",
    "referring_list[0] = 'New Programming'\n",
    "print('Referring list after updating 1st element : ')\n",
    "print(referring_list)\n",
    "print('Simple list after updating referring list : ')\n",
    "print(simple_list)\n",
    "\n",
    "simple_list[0] = 'Pyhton Programming'\n",
    "copied_list = simple_list.copy()\n",
    "copied_list[0] = 'New Programming'\n",
    "print('Copied list after updating 1st element : ')\n",
    "print(copied_list)\n",
    "print('Simple list after updating copied list: ')\n",
    "print(simple_list)\n",
    "\n",
    "print(simple_list[2:4])  # Prints index 2 and 3 values. Index 4 is excluded \n",
    "print(simple_list[-5:-3])  # Prints index 2 and 3 values. Index 4 is excluded \n",
    "\n"
   ]
  },
  {
   "cell_type": "markdown",
   "id": "86070935",
   "metadata": {},
   "source": [
    "# For loop\n",
    "For loop takes argument after \"for i in\"  \n",
    "## Range function\n",
    "In case of range function we can pass a starting value, stopping value and an incrementer.\n",
    "\n",
    "The loop stop is based on value of rangeend variable\n",
    "\n",
    "The range gets incremented by the given incrementer\n",
    "\n",
    "## List\n",
    "We can define a list with sequenece of strings and access the list elements in the for loop\n",
    "\n",
    "We can access the list elements diretly by passing list to the for loop\n",
    "\n",
    "We can access an element of the list using its index postion"
   ]
  },
  {
   "cell_type": "code",
   "execution_count": 4,
   "id": "3f0489b1",
   "metadata": {},
   "outputs": [
    {
     "name": "stdout",
     "output_type": "stream",
     "text": [
      "1\n",
      "3\n",
      "5\n",
      "7\n",
      "9\n",
      "11\n",
      "Java\n",
      "Python\n",
      "Dotnet\n",
      "Java\n",
      "Python\n",
      "Dotnet\n"
     ]
    }
   ],
   "source": [
    "rangeend = 12\n",
    "incrementer  =2\n",
    "for idx in range(1,rangeend,incrementer):\n",
    "    print(idx)\n",
    "\n",
    "languages = [\"Java\", \"Python\",\"Dotnet\"]\n",
    "for idx in languages:\n",
    "    print(idx)\n",
    "    \n",
    "for idx in range(len(languages)):\n",
    "    print(languages[idx])\n",
    "    "
   ]
  },
  {
   "cell_type": "markdown",
   "id": "561d20de",
   "metadata": {},
   "source": [
    "# Tuple\n",
    "Tuple is a collection where values of the elements cannot be updated"
   ]
  },
  {
   "cell_type": "code",
   "execution_count": 5,
   "id": "16a5c894",
   "metadata": {
    "scrolled": true
   },
   "outputs": [
    {
     "name": "stdout",
     "output_type": "stream",
     "text": [
      "('Python', 'programming', 'Rocks', 100, '%')\n",
      "['My', 'programming', 'Rocks', 100, '%']\n",
      "('My', 'programming', 'Rocks', 100, '%')\n"
     ]
    }
   ],
   "source": [
    "tuple_list = (\"Python\", \"programming\", 'Rocks', 100, '%')\n",
    "print(tuple_list)\n",
    "\n",
    "# tuple_list[0] = 'My'  #This wont work as element in tuple list cannot be changed\n",
    "another_list = list(tuple_list)\n",
    "another_list[0] = 'My'\n",
    "print(another_list)\n",
    "tuple_list = tuple(another_list)\n",
    "print(tuple_list)\n"
   ]
  },
  {
   "cell_type": "markdown",
   "id": "dd213867",
   "metadata": {},
   "source": [
    "# Set\n",
    "Set is a collection of elements without any specific position of the elements"
   ]
  },
  {
   "cell_type": "code",
   "execution_count": 6,
   "id": "404793e1",
   "metadata": {},
   "outputs": [
    {
     "name": "stdout",
     "output_type": "stream",
     "text": [
      "{'Set', 'ordered', 100, 'can', 'not', 'be'}\n",
      "{'Set', 'ordered', 100, 'can', 'not', 'be', '%'}\n",
      "True\n",
      "{'Set', 'ordered', 'can', 'not', 'be', '%'}\n"
     ]
    }
   ],
   "source": [
    "simple_set = {'Set' , 'can', 'not', 'be', 'ordered', 100}\n",
    "print(simple_set)\n",
    "simple_set.add('%')\n",
    "print(simple_set)\n",
    "#print(simple_set[1])  # This wont work as set cannot be indexed\n",
    "\n",
    "print('ordered' in simple_set)  # specifies true / false for the element being searched\n",
    "\n",
    "simple_set.remove(100)\n",
    "print(simple_set)\n"
   ]
  },
  {
   "cell_type": "markdown",
   "id": "f4cb458b",
   "metadata": {},
   "source": [
    "# Dictionary\n",
    "Dictionary is an custom indexed collection. "
   ]
  },
  {
   "cell_type": "code",
   "execution_count": 7,
   "id": "8c166641",
   "metadata": {},
   "outputs": [
    {
     "name": "stdout",
     "output_type": "stream",
     "text": [
      "{'lang': 'English', 'name': 'James', 'dob': '31st Dec'}\n",
      "My name is James born on 31st Dec and speaks English\n",
      "{'name': 'James', 'dob': '31st Dec', 'maritalstatus': 'Married'}\n"
     ]
    }
   ],
   "source": [
    "simple_dictionary = {\n",
    "    \"lang\" : 'English',\n",
    "    \"name\" : 'James',\n",
    "    \"dob\" : '31st Dec' \n",
    "}\n",
    "\n",
    "print(simple_dictionary)\n",
    "print(\"My name is \" + simple_dictionary[\"name\"] + \" born on \" + simple_dictionary[\"dob\"] + \" and speaks \" + simple_dictionary[\"lang\"])\n",
    "\n",
    "simple_dictionary[\"maritalstatus\"] = \"Married\"\n",
    "simple_dictionary.pop(\"lang\")\n",
    "print(simple_dictionary)"
   ]
  },
  {
   "cell_type": "markdown",
   "id": "6ba40ba0",
   "metadata": {},
   "source": [
    "# While loop\n",
    "While a condition is met execute statements"
   ]
  },
  {
   "cell_type": "code",
   "execution_count": 8,
   "id": "49de132a",
   "metadata": {},
   "outputs": [
    {
     "name": "stdout",
     "output_type": "stream",
     "text": [
      "['Pyhton Programming', 21, 4.35, 24, 'Future Models']\n",
      "Pyhton Programming\n",
      "21\n",
      "4.35\n",
      "24\n"
     ]
    }
   ],
   "source": [
    "print(simple_list)\n",
    "idx=0\n",
    "while idx < 4:\n",
    "    print(simple_list[idx])\n",
    "    idx = idx+1"
   ]
  },
  {
   "cell_type": "markdown",
   "id": "6d586519",
   "metadata": {},
   "source": [
    "# Conditional\n",
    "1. if\n",
    "2. else\n",
    "3. elif\n"
   ]
  },
  {
   "cell_type": "code",
   "execution_count": 9,
   "id": "0fe267f7",
   "metadata": {},
   "outputs": [
    {
     "name": "stdout",
     "output_type": "stream",
     "text": [
      "Student\n"
     ]
    }
   ],
   "source": [
    "age  = 18\n",
    "if age <= 18:\n",
    "    print('Student')\n",
    "elif age <= 26: \n",
    "    print('Newbie')\n",
    "else:\n",
    "    print('professional')\n",
    "    "
   ]
  },
  {
   "cell_type": "markdown",
   "id": "4a43c26c",
   "metadata": {},
   "source": [
    "# User Defined Functions\n",
    "User Defined functions are reusable code"
   ]
  },
  {
   "cell_type": "code",
   "execution_count": 10,
   "id": "487c8af1",
   "metadata": {},
   "outputs": [
    {
     "name": "stdout",
     "output_type": "stream",
     "text": [
      "13\n",
      "32\n",
      " This function returns x to the power of 3 plus 5 \n",
      "Global Variable defined inside the function\n"
     ]
    }
   ],
   "source": [
    "def x3plus5(x):\n",
    "    \"\"\" This function returns x to the power of 3 plus 5 \"\"\"\n",
    "    global z \n",
    "    z = \"Global Variable defined inside the function\"\n",
    "    y = (x*x*x) + 5\n",
    "    return y\n",
    "\n",
    "print(x3plus5(2))\n",
    "print(x3plus5(3))\n",
    "print(x3plus5.__doc__)\n",
    "print(z)"
   ]
  },
  {
   "cell_type": "markdown",
   "id": "e2f8164c",
   "metadata": {},
   "source": [
    "# Lambda Function\n",
    "Lambda function is an inline function that evaluates the expression and returns"
   ]
  },
  {
   "cell_type": "code",
   "execution_count": 11,
   "id": "c89deb2c",
   "metadata": {},
   "outputs": [
    {
     "name": "stdout",
     "output_type": "stream",
     "text": [
      "18\n"
     ]
    }
   ],
   "source": [
    "x2plus7 = lambda x,y: (x*x) + (y*y) + 5\n",
    "\n",
    "print(x2plus7(2,3))"
   ]
  }
 ],
 "metadata": {
  "kernelspec": {
   "display_name": "Python 3 (ipykernel)",
   "language": "python",
   "name": "python3"
  },
  "language_info": {
   "codemirror_mode": {
    "name": "ipython",
    "version": 3
   },
   "file_extension": ".py",
   "mimetype": "text/x-python",
   "name": "python",
   "nbconvert_exporter": "python",
   "pygments_lexer": "ipython3",
   "version": "3.9.7"
  }
 },
 "nbformat": 4,
 "nbformat_minor": 5
}
